{
 "cells": [
  {
   "cell_type": "markdown",
   "metadata": {},
   "source": [
    "# GUÍA DE PANDAS\n",
    "###### 5/03/2021\n",
    "\n",
    "\n",
    "Hay una guia genial de pandas en este enlace https://towardsdatascience.com/40-examples-to-master-pandas-c69d058f434e"
   ]
  },
  {
   "cell_type": "code",
   "execution_count": 1,
   "metadata": {},
   "outputs": [],
   "source": [
    "import pandas as pd\n",
    "import numpy as np"
   ]
  },
  {
   "cell_type": "markdown",
   "metadata": {},
   "source": [
    "## Importar dataframe"
   ]
  },
  {
   "cell_type": "code",
   "execution_count": null,
   "metadata": {},
   "outputs": [],
   "source": [
    "#csv en la misma carpeta del jupiter notebook\n",
    "df = pd.read_csv(\"dataframe.csv\")\n",
    "\n",
    "# si el dataframe está una carpeta por debajo de donde abres el notebook\n",
    "df = pd.read_csv(\"nombrecarpeta/dataframe.csv\") \n"
   ]
  },
  {
   "cell_type": "markdown",
   "metadata": {},
   "source": [
    "## Atributos del dataframe"
   ]
  },
  {
   "cell_type": "code",
   "execution_count": null,
   "metadata": {},
   "outputs": [],
   "source": [
    "df.size #devuelve el número de valores del dataframe en un entero de numpy:numpy.int32\n",
    "df.shape #devuelve una tupla de dos elementos:(nº de filas, nº de columnas). Por ej.(1272, 161)"
   ]
  },
  {
   "cell_type": "code",
   "execution_count": null,
   "metadata": {},
   "outputs": [],
   "source": [
    "# .columns\n",
    "\n",
    "df.columns #devuelve un objeto Index que contiene los títulos de todas las columnas. \n",
    "print(type(df.columns))#<class 'pandas.core.indexes.base.Index'>\n",
    "\n",
    "for item in df.columns:#es un iterable.Cada item es un titulo de columna i.e un string. \n",
    "    print(item)\n",
    "type(item)#str.\n",
    "\n",
    "df.colums.tolist() #Te devuelve una lista de python que contiene los nombres de las columnas.\n"
   ]
  },
  {
   "cell_type": "markdown",
   "metadata": {},
   "source": [
    "## Asignar un index nuevo al dataframe"
   ]
  },
  {
   "cell_type": "code",
   "execution_count": null,
   "metadata": {},
   "outputs": [],
   "source": [
    "df.index = list([]) #con elementos concretos \n",
    "\n",
    "df.reset_index()#mete el antiguo indice en una columna y renumera el índice del dataframe con un rango numérico\n",
    "                #del 0 al que sea.\n",
    "    \n",
    "df.set_index(\"nombre_columna\") #esto es para establecer una columna como índice del df"
   ]
  },
  {
   "cell_type": "markdown",
   "metadata": {},
   "source": [
    "## Médodos para obtener información sobre el dataframe "
   ]
  },
  {
   "cell_type": "code",
   "execution_count": null,
   "metadata": {},
   "outputs": [],
   "source": [
    "df.info()#num filas y columnas, tipo de valores, nulos.\n",
    "df.describe()#información estadística.\n",
    "df.head()\n",
    "df.tail()\n"
   ]
  },
  {
   "cell_type": "markdown",
   "metadata": {},
   "source": [
    "## Acceder a los elementos del dataframe "
   ]
  },
  {
   "cell_type": "markdown",
   "metadata": {},
   "source": [
    "### Seleccionar una columna"
   ]
  },
  {
   "cell_type": "code",
   "execution_count": null,
   "metadata": {},
   "outputs": [],
   "source": [
    "df[\"nombre_columna\"] #devuelve un objeto Series de pandas que contiene los valores de la columa y un índice.\n",
    "\n",
    "type(df[\"nombre_columna\"]) #pandas.core.series.Series. \n",
    "\n",
    "df[\"nombre_columna\"].unique() #devuelve un array unidisional de numpy que contiene los valores únicos de la \n",
    "                                #columna.Pueden ser numéricos o string.\n"
   ]
  },
  {
   "cell_type": "markdown",
   "metadata": {},
   "source": [
    "### Seleccionar varias columnas"
   ]
  },
  {
   "cell_type": "code",
   "execution_count": null,
   "metadata": {},
   "outputs": [],
   "source": [
    "#Para seleccionar varias columnas utilizamos doble corchete: el primero porque estamos seleccionando\n",
    "#y el segundo porque lo que estamos seleccionando es una lista (de columnas) y las listas van entre corchetes.\n",
    "\n",
    "df2[[\"nombre_columna_1\",\"nombre_columna_2\",\"nombre_columna_3\"]]\n",
    "#devuelve un objeto dataframe que contiene las columnas seleccionadas\n",
    "\n",
    "type(df2[[\"nombre_columna_1\",\"nombre_columna_2\",\"nombre_columna_3\"]]) #pandas.core.frame.DataFrame\n",
    "\n",
    "#Utilizando índice implícito (iloc.())\n",
    "\n",
    "df.iloc[:,2:] #seleccionamos todas las filas y desde la segunda columna en adelantem"
   ]
  },
  {
   "cell_type": "markdown",
   "metadata": {},
   "source": [
    "### Seleccionar filas : slicing"
   ]
  },
  {
   "cell_type": "code",
   "execution_count": null,
   "metadata": {},
   "outputs": [],
   "source": [
    "#Utilizando índice implícito (iloc.())\n",
    "\n",
    "df.iloc[:5,:] #seleccionamos de la fila 0 a la 4, todas la columnas."
   ]
  },
  {
   "cell_type": "markdown",
   "metadata": {},
   "source": [
    "## Limpiar el dataframe\n",
    "\n",
    "##### Generalmente, para que el dataframe original se vea modificado, tendremos que sobreescribirlo o utilizar el inplace =True. \n",
    "\n",
    "##### Cuando tenemos que hacer muchos cambios al dataframe original, lo normal es cargarlo como raw data y montar un dataframe que será una copia del raw data para trabajar sobre el e ir sobreescribiéndolo.\n",
    "       "
   ]
  },
  {
   "cell_type": "code",
   "execution_count": null,
   "metadata": {},
   "outputs": [],
   "source": [
    "#redondear los valores numéricos del dataframe\n",
    "\n",
    "round(dataframe)"
   ]
  },
  {
   "cell_type": "code",
   "execution_count": 1,
   "metadata": {},
   "outputs": [],
   "source": [
    "#Eliminar los valores nulos:\n",
    "\n",
    "df.dropna(inplace = True)\n",
    "\n"
   ]
  },
  {
   "cell_type": "code",
   "execution_count": null,
   "metadata": {},
   "outputs": [],
   "source": [
    "#Renombrar columnas (rename)\n",
    "\n",
    "\n",
    "#le damos una lista con los nuevos nombres de TODAS las columnas.\n",
    "planets.columns = ['método', 'número', 'periodo_orbital', 'masa', 'distancia', 'año']\n",
    "\n",
    "\n",
    "#Cambiamos el nombre de alguna/s columna/s\n",
    "df.rename(columns={\"nombre_antiguo\" : \"nombre_nuevo\", \"nombre_antiguo\" : \"nombre_nuevo\"}, inplace=True)\n",
    "df = df.rename(columns={\"nombre_antiguo\" : \"nombre_nuevo\", \"nombre_antiguo\" : \"nombre_nuevo\"})\n"
   ]
  },
  {
   "cell_type": "code",
   "execution_count": null,
   "metadata": {},
   "outputs": [],
   "source": [
    "#resetear el índice del dataframe \n",
    "df.reset_index() \n"
   ]
  },
  {
   "cell_type": "code",
   "execution_count": null,
   "metadata": {},
   "outputs": [],
   "source": [
    "#Intercambiar filas y columnas\n",
    "\n",
    "df.transpose()\n",
    "df.T"
   ]
  },
  {
   "cell_type": "code",
   "execution_count": null,
   "metadata": {},
   "outputs": [],
   "source": [
    "#Ordenar los valores de una columna: \n",
    "df[\"nombre_columna\"].sort_values()\n",
    "df[\"nombre_columna\"].sort_values(ascending = False)\n",
    "\n",
    "#Ordenar los valores del dataframe en función de una columna. \n",
    "df.sort_values(\"nombre_columna\")\n",
    "\n"
   ]
  },
  {
   "cell_type": "code",
   "execution_count": null,
   "metadata": {},
   "outputs": [],
   "source": [
    "#Eliminar una colunmna (drop)\n",
    "\n",
    "df.drop(columns=[\"nombre_columna\"])\n",
    "\n",
    "#Eliminar varias columnas\n",
    "\n",
    "df.drop(['col1', 'col2'], axis = 'columns', inplace=True)\n"
   ]
  },
  {
   "cell_type": "markdown",
   "metadata": {},
   "source": [
    "### Eliminar duplicados"
   ]
  },
  {
   "cell_type": "code",
   "execution_count": null,
   "metadata": {},
   "outputs": [],
   "source": [
    "#para detectarlos\n",
    "\n",
    "df.duplicated()\n",
    "\n",
    "#para eliminarlos y que el dataframe te renumere el índice:\n",
    "\n",
    "df.drop_duplicates(ignore_index = True, inplace=True)\n"
   ]
  },
  {
   "cell_type": "markdown",
   "metadata": {},
   "source": [
    "### Reemplazar"
   ]
  },
  {
   "cell_type": "code",
   "execution_count": null,
   "metadata": {},
   "outputs": [],
   "source": [
    "#Al Series columna se le puede aplicar el médodo str.replace()\n",
    "\n",
    "df2[\"nombre_columna\"] = df2[\"nombre_columna\"].str.replace(\"$\", \"\")#Eliminar el signo de dolar\n",
    "\n",
    "df2[\"nombre_columna\"] = df2[\"nombre_columna\"].str.replace(\"$|,\", \"\")#Elimir el signo del dolar o la coma\n",
    "\n",
    "df2[\"nombre_columna\"] = df2[\"nombre_columna\"].str.replace(\",\", \".\")#Reemplazar la coma por un punto.\n",
    "\n",
    "#Si el replace lo queremos aplicar para varias columnas del dataframe tendremos que hacer un bucle for:\n",
    "\n",
    "for item in list(df.columns):#iteramos sobre una lista de python que contiene los nombres de las columnas\n",
    "    print(item)\n",
    "    try:\n",
    "        df[item] = df[item].str.replace(\"%\",\"\")#eliminamos el signo del porcentaje de todas las columnas\n",
    "    except:\n",
    "        continue#si la columna no tiene porcentaje no me des error, sigue adelante."
   ]
  },
  {
   "cell_type": "markdown",
   "metadata": {},
   "source": [
    "### Agrupar"
   ]
  },
  {
   "cell_type": "code",
   "execution_count": null,
   "metadata": {},
   "outputs": [],
   "source": [
    "#GROUP BY\n",
    "\n",
    "#Agrupamos el dataframe por el contenido de la columna número 1.\n",
    "\n",
    "df2.groupby(\"columna_1\")#Esto no se puede imprimir, es un objeto tipo Groupby i.e pandas.core.groupby.generic.DataFrameGroupBy\n",
    "\n",
    "df2.groupby(\"columna_1\").sum()#esto devuelve un dataframe agrupado por el contenido de la columna 1, \n",
    "                                    #sumando sus valores. Devuelve un objeto tipo dataframe. \n",
    "df2.groupby(\"columna_1\").count()\n",
    "\n",
    "\n",
    "#Agrupamos el dataframe por el contenido de la columna 1 y despues por el de la columna 2.    \n",
    "\n",
    "ajustes.groupby(\"nombre_col1\")[\"nombre_col2\"] #esto es un objeto tipo groupby al que podemos aplicar metodos\n",
    "\n",
    "ajustes.groupby(\"nombre_col1\")[\"nombre_col2\"].describe()\n",
    "ajustes.groupby(\"nombre_col1\")[\"nombre_col2\"].sum()\n",
    "ajustes.groupby(\"nombre_col1\")[\"nombre_col2\"].mean()\n",
    "    \n",
    "        "
   ]
  },
  {
   "cell_type": "markdown",
   "metadata": {},
   "source": [
    "### Concatenar"
   ]
  },
  {
   "cell_type": "code",
   "execution_count": null,
   "metadata": {},
   "outputs": [],
   "source": [
    "concat = pd.concat([df1, df2], ignore_index=True) \n",
    "\n",
    "#esto concatena dos df en vertical(pone el 2º debajo del 1º) y renumera el índice. Ojo que los df tienen que tener las \n",
    "#mismas dimensiones."
   ]
  },
  {
   "cell_type": "markdown",
   "metadata": {},
   "source": [
    "### Máscaras\n"
   ]
  },
  {
   "cell_type": "code",
   "execution_count": null,
   "metadata": {},
   "outputs": [],
   "source": [
    "#Las máscaras se aplican siempre entre corchetes\n",
    "\n",
    "df[\"Tipo\"].isin([\"Aumento\"])#creamos una máscara para filtrar las filas/registros  que contienen\n",
    "                            #el string \"Aumento\" en la columna \"Tipo\"\n",
    "                            #usamos el método isin() y los corchetes para contener las columnas y valores.\n",
    "                            #La máscara devuelve una Serie cuyos valores son booleanos.\n",
    "            \n",
    "df[df[\"Tipo\"].isin([\"Aumento\"])]#Así aplicamos la máscara al dataframe.\n",
    "\n",
    "#Aplicamos la máscara y seleccionamos con doble corchete las columnas que queremos que muestre el df resultante.\n",
    "df[df[\"Tipo\"].isin([\"Aumento\"])][[\"Partidas\", \"Tipo\", \"Todos\"]] \n",
    "    \n",
    "# Máscara que utiliza el metodo str.startswith. Recuerda que puedes utilizar estos métodos str sobre las columnas.\n",
    "df[\"Partidas\"].str.startswith(\"nombrevalor\")]\n",
    "    \n"
   ]
  },
  {
   "cell_type": "markdown",
   "metadata": {},
   "source": [
    "#### Otros métodos"
   ]
  },
  {
   "cell_type": "code",
   "execution_count": null,
   "metadata": {},
   "outputs": [],
   "source": [
    "type(elemento)#para ver el tipo de elemento\n",
    "\n",
    "display(elemento)#para imprimir "
   ]
  }
 ],
 "metadata": {
  "kernelspec": {
   "display_name": "Python 3",
   "language": "python",
   "name": "python3"
  },
  "language_info": {
   "codemirror_mode": {
    "name": "ipython",
    "version": 3
   },
   "file_extension": ".py",
   "mimetype": "text/x-python",
   "name": "python",
   "nbconvert_exporter": "python",
   "pygments_lexer": "ipython3",
   "version": "3.8.5"
  }
 },
 "nbformat": 4,
 "nbformat_minor": 4
}
